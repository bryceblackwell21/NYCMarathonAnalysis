{
 "cells": [
  {
   "cell_type": "markdown",
   "metadata": {},
   "source": [
    "## Import Libraries\n",
    "Summary: This block imports the necessary libraries for web scraping (selenium and BeautifulSoup) and for handling CSV files (csv)."
   ]
  },
  {
   "cell_type": "code",
   "execution_count": null,
   "metadata": {},
   "outputs": [],
   "source": [
    "\n",
    "## Importing Libraries\n",
    "%pip install selenium beautifulsoup4\n",
    "import csv\n",
    "import os\n",
    "from selenium import webdriver\n",
    "from selenium.webdriver.common.by import By\n",
    "from selenium.webdriver.support.ui import WebDriverWait\n",
    "from selenium.webdriver.support import expected_conditions as EC\n",
    "from selenium.common.exceptions import TimeoutException\n",
    "\n",
    "from bs4 import BeautifulSoup\n"
   ]
  },
  {
   "cell_type": "markdown",
   "metadata": {},
   "source": [
    "## Initialize WebDriver\n",
    "Summary: This cell initializes the Chromedriver, and opens the specified URL using Selenium. Due to dynamic loading, it waits up to 20 seconds for an element with the text \"5K\" to appear on the page, ensuring that the page is fully loaded. Then, it retrieves the HTML source of the fully rendered page and parses it with BeautifulSoup."
   ]
  },
  {
   "cell_type": "code",
   "execution_count": null,
   "metadata": {},
   "outputs": [],
   "source": [
    "# Set up Chrome options for headless browsing\n",
    "chrome_options = webdriver.ChromeOptions()\n",
    "chrome_options.add_argument(\"--headless\")\n",
    "chrome_options.binary_location = \"/usr/local/bin/chrome-mac-x64/Google Chrome for Testing.app/Contents/MacOS/Google Chrome for Testing\"\n",
    "\n",
    "# Initialize the WebDriver\n",
    "driver = webdriver.Chrome(options=chrome_options)\n"
   ]
  },
  {
   "cell_type": "markdown",
   "metadata": {},
   "source": [
    "## Set Up CSV File Format\n",
    "This cell defines how to properly configure the fields."
   ]
  },
  {
   "cell_type": "code",
   "execution_count": null,
   "metadata": {},
   "outputs": [],
   "source": [
    "# Desired column order\n",
    "ordered_fields = [\n",
    "    'Bib Number', 'Place Gender', 'Place Age‑Graded', 'Gun Time', '5K', '10K', '15K', '20K', 'HALF',\n",
    "    '25K', '30K', '35K', '40K', '20M', '25.2M', '26M', 'MAR', 'Official Time'\n",
    "]\n",
    "\n",
    "\n",
    "\n",
    "# Set up the CSV file with the ordered fields\n",
    "\n",
    "\n",
    "# Define the filename and path to save the CSV file in the user's home directory\n",
    "home_directory = os.path.expanduser(\"~\")\n",
    "filename = os.path.join(home_directory, 'ny_marathon_results.csv')\n",
    "with open(filename, mode='a', newline='') as csvfile:\n",
    "    writer = csv.DictWriter(csvfile, fieldnames=ordered_fields)\n",
    "    writer.writeheader()"
   ]
  },
  {
   "cell_type": "markdown",
   "metadata": {},
   "source": [
    "## Extract Runner Information\n",
    "This cell initializes an empty dictionary to store the split times extracted from the HTML. This cell finds the container with the class content-box and iterates through all form-group-item sections within it, extracting the label and corresponding time, and storing them in the split_times dictionary."
   ]
  },
  {
   "cell_type": "code",
   "execution_count": null,
   "metadata": {},
   "outputs": [],
   "source": [
    "# Process each runner's bib number\n",
    "for bib_number in range(1, 66900):  # Full range of runners in 2024 race. Not all numbers are valid due to no-shows or reserved numbers for elite runners.\n",
    "    url = f\"https://results.nyrr.org/event/M2024/result/{bib_number}\"\n",
    "    driver.get(url)\n",
    "\n",
    "    # Initialize data dictionary for the runner's results with None as default for all ordered fields\n",
    "    runner_data = {field: None for field in ordered_fields}\n",
    "    runner_data['Bib Number'] = bib_number\n",
    "\n",
    "    try:\n",
    "        # Wait for the 5K split to load to ensure the page is fully rendered\n",
    "        WebDriverWait(driver, .5).until(\n",
    "            EC.presence_of_element_located((By.XPATH, \"//label[text()='5K']\"))\n",
    "        )\n",
    "\n",
    "        # Retrieve the page source after JavaScript has rendered\n",
    "        page_source = driver.page_source\n",
    "\n",
    "        # Parse the HTML with BeautifulSoup\n",
    "        soup = BeautifulSoup(page_source, 'html.parser')\n",
    "\n",
    "        # Dictionary to store the split times\n",
    "        split_times = {}\n",
    "\n",
    "        # Extract split times in the parsed HTML\n",
    "        content_box = soup.find(\"div\", class_=\"content-box\")\n",
    "        if content_box:\n",
    "            split_sections = content_box.find_all(\"div\", class_=\"form-group-item\")\n",
    "            for section in split_sections:\n",
    "                label = section.find(\"label\")\n",
    "                time = section.find(\"span\", class_=\"label-value\")\n",
    "                if label and time:\n",
    "                    split_label = label.get_text(strip=True)\n",
    "                    split_time = time.get_text(strip=True)\n",
    "                    split_times[split_label] = split_time\n",
    "\n",
    "        # Update runner_data with the extracted splits and other fields\n",
    "        runner_data.update(split_times)\n",
    "\n",
    "\n",
    "        # Append the current runner's data to the CSV file\n",
    "        with open(filename, mode='a', newline='') as csvfile:\n",
    "            writer = csv.DictWriter(csvfile, fieldnames=ordered_fields)\n",
    "            writer.writerow(runner_data)\n",
    "\n",
    "        print(f\"Processed bib number {bib_number}\")\n",
    "\n",
    "    except TimeoutException:\n",
    "        print(f\"Timed out while processing bib number {bib_number}. Skipping...\")\n",
    "\n",
    "# Close the driver\n",
    "driver.quit()\n",
    "print(\"All bibs processed and saved to CSV.\")"
   ]
  }
 ],
 "metadata": {
  "kernelspec": {
   "display_name": "Python 3",
   "language": "python",
   "name": "python3"
  },
  "language_info": {
   "codemirror_mode": {
    "name": "ipython",
    "version": 3
   },
   "file_extension": ".py",
   "mimetype": "text/x-python",
   "name": "python",
   "nbconvert_exporter": "python",
   "pygments_lexer": "ipython3",
   "version": "3.10.4"
  }
 },
 "nbformat": 4,
 "nbformat_minor": 2
}
